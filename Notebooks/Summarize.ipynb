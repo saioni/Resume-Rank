{
 "cells": [
  {
   "cell_type": "code",
   "execution_count": 1,
   "metadata": {},
   "outputs": [],
   "source": [
    "import pandas as pd \n",
    "import numpy as np \n",
    "import re\n",
    "import nltk\n",
    "from nltk.corpus import stopwords\n",
    "from wordcloud import STOPWORDS\n",
    "from nltk.probability import FreqDist\n",
    "import random\n",
    "import math"
   ]
  },
  {
   "cell_type": "code",
   "execution_count": 2,
   "metadata": {},
   "outputs": [
    {
     "name": "stdout",
     "output_type": "stream",
     "text": [
      "(1199, 5)\n"
     ]
    }
   ],
   "source": [
    "df = pd.read_csv(\"./clean_data1.csv\")\n",
    "print(df.shape)\n",
    "#df.head()\n",
    "df = df[[\"ID\",\"Category\",\"newer_res\",\"Resume\"]]"
   ]
  },
  {
   "cell_type": "code",
   "execution_count": 3,
   "metadata": {},
   "outputs": [
    {
     "data": {
      "text/html": [
       "<div>\n",
       "<style scoped>\n",
       "    .dataframe tbody tr th:only-of-type {\n",
       "        vertical-align: middle;\n",
       "    }\n",
       "\n",
       "    .dataframe tbody tr th {\n",
       "        vertical-align: top;\n",
       "    }\n",
       "\n",
       "    .dataframe thead th {\n",
       "        text-align: right;\n",
       "    }\n",
       "</style>\n",
       "<table border=\"1\" class=\"dataframe\">\n",
       "  <thead>\n",
       "    <tr style=\"text-align: right;\">\n",
       "      <th></th>\n",
       "      <th>ID</th>\n",
       "      <th>Category</th>\n",
       "      <th>newer_res</th>\n",
       "      <th>Resume</th>\n",
       "    </tr>\n",
       "  </thead>\n",
       "  <tbody>\n",
       "    <tr>\n",
       "      <th>0</th>\n",
       "      <td>1</td>\n",
       "      <td>HR</td>\n",
       "      <td>john h. smith , p.h.r . 800-991-5187 | po box ...</td>\n",
       "      <td>b'John H. Smith, P.H.R.\\n800-991-5187 | PO Box...</td>\n",
       "    </tr>\n",
       "    <tr>\n",
       "      <th>1</th>\n",
       "      <td>2</td>\n",
       "      <td>HR</td>\n",
       "      <td>name surname address mobile no/email personal ...</td>\n",
       "      <td>b'Name Surname\\nAddress\\nMobile No/Email\\nPERS...</td>\n",
       "    </tr>\n",
       "    <tr>\n",
       "      <th>2</th>\n",
       "      <td>3</td>\n",
       "      <td>HR</td>\n",
       "      <td>anthony brown hr assistant areas of expertise ...</td>\n",
       "      <td>b'Anthony Brown\\nHR Assistant\\nAREAS OF EXPERT...</td>\n",
       "    </tr>\n",
       "    <tr>\n",
       "      <th>3</th>\n",
       "      <td>4</td>\n",
       "      <td>HR</td>\n",
       "      <td>www.downloadmela.com satheesh email id : caree...</td>\n",
       "      <td>b'www.downloadmela.com\\nSatheesh\\nEMAIL ID:\\nC...</td>\n",
       "    </tr>\n",
       "    <tr>\n",
       "      <th>4</th>\n",
       "      <td>5</td>\n",
       "      <td>HR</td>\n",
       "      <td>human resources director expert organizational...</td>\n",
       "      <td>b\"HUMAN RESOURCES DIRECTOR\\n\\xef\\x82\\xb7Expert...</td>\n",
       "    </tr>\n",
       "  </tbody>\n",
       "</table>\n",
       "</div>"
      ],
      "text/plain": [
       "   ID Category                                          newer_res  \\\n",
       "0   1       HR  john h. smith , p.h.r . 800-991-5187 | po box ...   \n",
       "1   2       HR  name surname address mobile no/email personal ...   \n",
       "2   3       HR  anthony brown hr assistant areas of expertise ...   \n",
       "3   4       HR  www.downloadmela.com satheesh email id : caree...   \n",
       "4   5       HR  human resources director expert organizational...   \n",
       "\n",
       "                                              Resume  \n",
       "0  b'John H. Smith, P.H.R.\\n800-991-5187 | PO Box...  \n",
       "1  b'Name Surname\\nAddress\\nMobile No/Email\\nPERS...  \n",
       "2  b'Anthony Brown\\nHR Assistant\\nAREAS OF EXPERT...  \n",
       "3  b'www.downloadmela.com\\nSatheesh\\nEMAIL ID:\\nC...  \n",
       "4  b\"HUMAN RESOURCES DIRECTOR\\n\\xef\\x82\\xb7Expert...  "
      ]
     },
     "execution_count": 3,
     "metadata": {},
     "output_type": "execute_result"
    }
   ],
   "source": [
    "df.head()"
   ]
  },
  {
   "cell_type": "code",
   "execution_count": 22,
   "metadata": {},
   "outputs": [
    {
     "data": {
      "text/plain": [
       "\"alan a. porter 3613 radford street frankfort , ky 40601 phone : 502-223-8837 email : aaporter @ freemail.com career objective : to obtain challenging position real estate sales associate real estate industry use skills closing transaction sale purchase residential commercial buildings . summary skills : knowledge sales purchase procedures real estate industry familiar zoning taxation laws state skilled inspecting evaluating properties holds latest information real estate market familiar legal contractual aspects involved purchase , sale lease properties excellent analytical problem-solving skills highly organized , sincere , honest enthusiastic person expert working ms office suite using gps ability take good judgment trustworthy person remarkable communication interpersonal skills detail-oriented solid perseverance familiar style technique sketching interpreting bar graphs familiar area neighborhood experience : real estate sales associate the perotti group , frankfort , ky 2012 - present developing property listings research meeting prospective sellers community activities examining properties suggesting major minor repairs order enhance price interacting appraisers set selling price closing contract advertising properties sales lease internet , print media serving representative clients start end transaction closing real estate sales associate golden properties , frankfort , ky 2009 - 2012 increase property listings conducting research , survey attending property exhibitions helped buyers selecting purchasing homes apartments according budget taste acted mediator negotiating closing transaction processed legal documents necessary purchase , sales lease agreement per guidance company attorney scheduled property tours buyers maintained details properties bought sold always gave preference clients ' interests deals inspected guide buyers choosing homes apartments education : bachelor 's degree business drive school business , frankfort , ky 2007 real estate agent license frankfort real estate commission 2008 reference : on request .\""
      ]
     },
     "execution_count": 22,
     "metadata": {},
     "output_type": "execute_result"
    }
   ],
   "source": [
    "resume = df[\"newer_res\"][math.floor(random.random()*(df.shape)[0])]\n",
    "resume"
   ]
  },
  {
   "cell_type": "code",
   "execution_count": 23,
   "metadata": {},
   "outputs": [
    {
     "data": {
      "text/plain": [
       "array(['HR', 'Designing', 'Managment', 'Information Technology',\n",
       "       'Education', 'Advocate', 'Business Development',\n",
       "       'Health & Fitness', 'Agricultural', 'BPO', 'Sales', 'Consultant',\n",
       "       'Digital Media', 'Automobile', 'Food & Beverages', 'Finance',\n",
       "       'Apparel', 'Engineering', 'Accountant', 'Building & Construction',\n",
       "       'Architects', 'Public Relations', 'Banking', 'Arts', 'Aviation'],\n",
       "      dtype=object)"
      ]
     },
     "execution_count": 23,
     "metadata": {},
     "output_type": "execute_result"
    }
   ],
   "source": [
    "df[\"Category\"].unique()"
   ]
  },
  {
   "cell_type": "code",
   "execution_count": 24,
   "metadata": {},
   "outputs": [
    {
     "name": "stdout",
     "output_type": "stream",
     "text": [
      "[('a', 'DT'), ('l', 'NN'), ('a', 'DT'), ('n', 'JJ'), (' ', 'NN'), ('a', 'DT'), ('.', '.'), (' ', 'JJ'), ('p', 'NN'), ('o', 'NN')]\n"
     ]
    }
   ],
   "source": [
    "token = nltk.word_tokenize(resume)\n",
    "use_data = nltk.pos_tag(resume)\n",
    "token[:10]\n",
    "print(use_data[:10])"
   ]
  },
  {
   "cell_type": "code",
   "execution_count": 25,
   "metadata": {},
   "outputs": [],
   "source": [
    "from nltk.probability import FreqDist\n",
    "from string import punctuation\n",
    "\n",
    "def summarize(doc,words):\n",
    "    score={}\n",
    "    fd = FreqDist(words)\n",
    "    for i,t in enumerate(doc):\n",
    "        score[i] = 0\n",
    "        for j in nltk.word_tokenize(t):\n",
    "            if j in fd:\n",
    "                score[i]+=fd[j]\n",
    "    \n",
    "    r = sorted(list(score.items()),key=lambda x:x[1],reverse=True)[:math.floor(0.60*len(doc))]\n",
    "    r.sort(key=lambda x:x[0])\n",
    "    l = [doc[i[0]] for i in r]\n",
    "    return \"\\n\\n\".join(l)"
   ]
  },
  {
   "cell_type": "code",
   "execution_count": 26,
   "metadata": {},
   "outputs": [],
   "source": [
    "sent = nltk.sent_tokenize(resume)\n",
    "puncu = punctuation\n",
    "word_token = nltk.word_tokenize(resume)\n",
    "resume_new = \" \".join([i for i in word_token if i not in puncu])"
   ]
  },
  {
   "cell_type": "code",
   "execution_count": 27,
   "metadata": {},
   "outputs": [
    {
     "data": {
      "text/plain": [
       "\"alan a. porter 3613 radford street frankfort , ky 40601 phone : 502-223-8837 email : aaporter @ freemail.com career objective : to obtain challenging position real estate sales associate real estate industry use skills closing transaction sale purchase residential commercial buildings . summary skills : knowledge sales purchase procedures real estate industry familiar zoning taxation laws state skilled inspecting evaluating properties holds latest information real estate market familiar legal contractual aspects involved purchase , sale lease properties excellent analytical problem-solving skills highly organized , sincere , honest enthusiastic person expert working ms office suite using gps ability take good judgment trustworthy person remarkable communication interpersonal skills detail-oriented solid perseverance familiar style technique sketching interpreting bar graphs familiar area neighborhood experience : real estate sales associate the perotti group , frankfort , ky 2012 - present developing property listings research meeting prospective sellers community activities examining properties suggesting major minor repairs order enhance price interacting appraisers set selling price closing contract advertising properties sales lease internet , print media serving representative clients start end transaction closing real estate sales associate golden properties , frankfort , ky 2009 - 2012 increase property listings conducting research , survey attending property exhibitions helped buyers selecting purchasing homes apartments according budget taste acted mediator negotiating closing transaction processed legal documents necessary purchase , sales lease agreement per guidance company attorney scheduled property tours buyers maintained details properties bought sold always gave preference clients ' interests deals inspected guide buyers choosing homes apartments education : bachelor 's degree business drive school business , frankfort , ky 2007 real estate agent license frankfort real estate commission 2008 reference : on request .\""
      ]
     },
     "execution_count": 27,
     "metadata": {},
     "output_type": "execute_result"
    }
   ],
   "source": [
    "resume"
   ]
  },
  {
   "cell_type": "code",
   "execution_count": 28,
   "metadata": {},
   "outputs": [],
   "source": [
    "summ = summarize(sent,resume_new)"
   ]
  },
  {
   "cell_type": "code",
   "execution_count": 29,
   "metadata": {},
   "outputs": [
    {
     "data": {
      "text/plain": [
       "\"summary skills : knowledge sales purchase procedures real estate industry familiar zoning taxation laws state skilled inspecting evaluating properties holds latest information real estate market familiar legal contractual aspects involved purchase , sale lease properties excellent analytical problem-solving skills highly organized , sincere , honest enthusiastic person expert working ms office suite using gps ability take good judgment trustworthy person remarkable communication interpersonal skills detail-oriented solid perseverance familiar style technique sketching interpreting bar graphs familiar area neighborhood experience : real estate sales associate the perotti group , frankfort , ky 2012 - present developing property listings research meeting prospective sellers community activities examining properties suggesting major minor repairs order enhance price interacting appraisers set selling price closing contract advertising properties sales lease internet , print media serving representative clients start end transaction closing real estate sales associate golden properties , frankfort , ky 2009 - 2012 increase property listings conducting research , survey attending property exhibitions helped buyers selecting purchasing homes apartments according budget taste acted mediator negotiating closing transaction processed legal documents necessary purchase , sales lease agreement per guidance company attorney scheduled property tours buyers maintained details properties bought sold always gave preference clients ' interests deals inspected guide buyers choosing homes apartments education : bachelor 's degree business drive school business , frankfort , ky 2007 real estate agent license frankfort real estate commission 2008 reference : on request .\""
      ]
     },
     "execution_count": 29,
     "metadata": {},
     "output_type": "execute_result"
    }
   ],
   "source": [
    "summ\n"
   ]
  },
  {
   "cell_type": "code",
   "execution_count": null,
   "metadata": {},
   "outputs": [],
   "source": []
  }
 ],
 "metadata": {
  "kernelspec": {
   "display_name": "Python 3",
   "language": "python",
   "name": "python3"
  },
  "language_info": {
   "codemirror_mode": {
    "name": "ipython",
    "version": 3
   },
   "file_extension": ".py",
   "mimetype": "text/x-python",
   "name": "python",
   "nbconvert_exporter": "python",
   "pygments_lexer": "ipython3",
   "version": "3.7.3"
  }
 },
 "nbformat": 4,
 "nbformat_minor": 2
}
